{
  "nbformat": 4,
  "nbformat_minor": 0,
  "metadata": {
    "colab": {
      "provenance": [],
      "collapsed_sections": [
        "qaAQW94vz2aB"
      ]
    },
    "kernelspec": {
      "name": "python3",
      "display_name": "Python 3"
    },
    "language_info": {
      "name": "python"
    }
  },
  "cells": [
    {
      "cell_type": "markdown",
      "source": [
        "# MACHINE LEARNING ASSIGNMENT : GROUP 23\n"
      ],
      "metadata": {
        "id": "ngKf7l_x_M1W"
      }
    },
    {
      "cell_type": "markdown",
      "source": [
        "## Executive Summary\n",
        "This study investigates gender disparities in skills-related underemployment (SRU) in Malaysia, analyzing trends using linear regression and principal component analysis (PCA). Skills-related underemployment affects Malaysia because qualified individuals often find themselves working jobs which do not require their advanced skills especially for women.\n",
        "\n",
        "The Department of Statistics Malaysia (DOSM) data serves as the basis for research that establishes SRU as the outcome variable while time (in quarters), gender, and employment variables act as independent variables. Linear regression data shows that SRU measured at higher rates among male workers than female workers throughout the studied time period. The R-squared value indicates time serves as a better predictor for female SRU trends than male underemployment due to its higher rate of 0.847 as compared to 0.789.\n",
        "\n",
        "The PCA further highlights differences in SRU patterns between genders. The first principal component explains more than 94% of male underemployment variation and over 96% of female underemployment variation which confirms that primary underemployment trends receive clear representation. Males exhibit more scattered and less stable trends, while females display a more linear and stable pattern, implying a consistent underemployment trend over time for women.\n",
        "\n",
        "This analysis underscores that gender disparities in SRU are not only evident in growth rates but also in trend stability, with male SRU influenced by fluctuating factors and female SRU maintaining steadiness. Additional research on the topic should include examinations of education level distributions and economic conditions as well as different job sector distributions. The application of K-means clustering and other machine learning approaches would produce enhanced understanding of employment trends in order to develop gender-focused policies fighting underemployment inequalities.\n",
        "\n",
        "This study emphasizes the critical need to address skills-related underemployment in Malaysia, particularly focusing on gender-based variations, to ensure equitable employment opportunities and efficient utilization of skills in the workforce.\n",
        "\n",
        "\n"
      ],
      "metadata": {
        "id": "YEH6rmCqKZrB"
      }
    },
    {
      "cell_type": "markdown",
      "source": [
        "## Gender Disparities in Skills-Related Underemployment in Malaysia: A Trend Analysis\n",
        "\n",
        "Before we dive in, understanding underemployment requires us to clarify its definition before conducting any analysis. Skills-related underemployment occurs when individuals with advanced skills or qualifications (like a degree) are employed in jobs that don't utilize those skills, often low-paying or low-skilled positions that don't typically require such qualifications.  Time-related underemployment, on the other hand, refers to situations where individuals are willing and able to work more hours than they are currently employed.  Essentially, they are working fewer hours than they desire.\n",
        "\n",
        "In Malaysia, the country faces a significant gender gap in underemployment, particularly concerning the utilization of skills. Studies show women are more likely than men to face both time-related and skill-related underemployment conditions. This disparity is further compounded by higher rates of underemployment among women in the informal sector, where income disparities compared to formally employed workers are also greater ([Article Reference](https://thesun.my/opinion-news/silent-struggle-impacting-our-workforce-KM11597085))\n",
        "\n",
        "This research underscores the gender disparities in skills-related underemployment as a notable issue in Malaysia.  Therefore, this project investigates the following key question:\n",
        "\n",
        "> **\"Is there a significant gender disparity in skills-related underemployment trends across different time periods?\"**\n",
        "\n",
        "This research explores the development of gender gap in skills-related underemployment through an analysis of established patterns and trends.  This investigation seeks to provide insights that could inform policy interventions and contribute to addressing this persistent challenge.\n",
        "\n",
        "Dataset Reference: https://open.dosm.gov.my/data-catalogue/lfs_qtr_sru_sex"
      ],
      "metadata": {
        "id": "GYU68hHzj-_h"
      }
    },
    {
      "cell_type": "markdown",
      "source": [
        "# 1. Exploring the Dataset"
      ],
      "metadata": {
        "id": "bbKjxXm6llFR"
      }
    },
    {
      "cell_type": "markdown",
      "source": [
        "## Google Drive, Data Setup, and Data Cleaning"
      ],
      "metadata": {
        "id": "orkA46FstmwJ"
      }
    },
    {
      "cell_type": "code",
      "execution_count": 25,
      "metadata": {
        "id": "_shFX3N1lESu",
        "colab": {
          "base_uri": "https://localhost:8080/"
        },
        "outputId": "6a3a245d-c42c-4a25-a00b-a818dc42a38e"
      },
      "outputs": [
        {
          "output_type": "stream",
          "name": "stdout",
          "text": [
            "Drive already mounted at /content/drive; to attempt to forcibly remount, call drive.mount(\"/content/drive\", force_remount=True).\n",
            "/content/drive/MyDrive/MLAssignmentAndLab/MyPart\n"
          ]
        }
      ],
      "source": [
        "#GOOGLE DRIVE SETUP\n",
        "from google.colab import drive\n",
        "import os\n",
        "\n",
        "drive.mount('/content/drive')\n",
        "notebook_path = r\"/content/drive/MyDrive/MLAssignmentAndLab/MyPart\"\n",
        "\n",
        "os.chdir(notebook_path)\n",
        "!pwd"
      ]
    },
    {
      "cell_type": "code",
      "source": [
        "#LIBRARY IMPORTS AND DATASET LOADING\n",
        "import pandas as pd\n",
        "import numpy as np\n",
        "import matplotlib.pyplot as plt\n",
        "import seaborn as sns\n",
        "from sklearn.model_selection import train_test_split\n",
        "from sklearn.decomposition import PCA\n",
        "from sklearn.linear_model import LinearRegression\n",
        "from sklearn.neural_network import MLPClassifier\n",
        "from sklearn.metrics import mean_squared_error, accuracy_score, classification_report\n",
        "from sklearn.preprocessing import StandardScaler, LabelEncoder\n",
        "import plotly.graph_objects as go\n",
        "\n",
        "\n",
        "# Load the dataset\n",
        "underemployment_filepath = '/content/drive/MyDrive/MLAssignmentAndLab/MyPart/lfs_qtr_sru_sex.csv'\n",
        "\n",
        "df1 = pd.read_csv(underemployment_filepath)\n",
        "df2 = df1\n",
        "df3 = df1"
      ],
      "metadata": {
        "id": "bGpdF8wClYFT"
      },
      "execution_count": 26,
      "outputs": []
    },
    {
      "cell_type": "code",
      "source": [
        "# EXPLORING DATASET\n",
        "print(\"Dataset Overview:\")\n",
        "print(df1.head())\n",
        "print(\"\\nDataset Info:\")\n",
        "df1.info()\n",
        "\n",
        "#This section shows the columns, the range index, data columns, data types,\n",
        "#memory usage"
      ],
      "metadata": {
        "id": "Kt-HiDFAlpGX",
        "colab": {
          "base_uri": "https://localhost:8080/"
        },
        "outputId": "a8eba250-2eda-4b92-b90c-59c39209f830"
      },
      "execution_count": 27,
      "outputs": [
        {
          "output_type": "stream",
          "name": "stdout",
          "text": [
            "Dataset Overview:\n",
            "         date variable      sex   sru\n",
            "0  2017-01-01     rate  overall  29.9\n",
            "1  2017-04-01     rate  overall  31.8\n",
            "2  2017-07-01     rate  overall  31.4\n",
            "3  2017-10-01     rate  overall  32.7\n",
            "4  2018-01-01     rate  overall  32.5\n",
            "\n",
            "Dataset Info:\n",
            "<class 'pandas.core.frame.DataFrame'>\n",
            "RangeIndex: 186 entries, 0 to 185\n",
            "Data columns (total 4 columns):\n",
            " #   Column    Non-Null Count  Dtype  \n",
            "---  ------    --------------  -----  \n",
            " 0   date      186 non-null    object \n",
            " 1   variable  186 non-null    object \n",
            " 2   sex       186 non-null    object \n",
            " 3   sru       186 non-null    float64\n",
            "dtypes: float64(1), object(3)\n",
            "memory usage: 5.9+ KB\n"
          ]
        }
      ]
    },
    {
      "cell_type": "code",
      "source": [
        "#CHECK FOR MISSING VALUES\n",
        "print(\"\\nMissing Values:\")\n",
        "print(df1.isnull().sum())\n",
        "df1 = df1.dropna()\n",
        "\n",
        "\"\"\"\n",
        "This part of the code ensures that there is no missing values\n",
        "in the dataset. Last line drops rows/columsn with significant\n",
        "#missing values if necessary.\n",
        "\"\"\""
      ],
      "metadata": {
        "id": "_Yf4OSnmmPCB",
        "colab": {
          "base_uri": "https://localhost:8080/",
          "height": 175
        },
        "outputId": "58a42aa9-ffb3-4fc7-a7e6-b749a65bbda1"
      },
      "execution_count": 28,
      "outputs": [
        {
          "output_type": "stream",
          "name": "stdout",
          "text": [
            "\n",
            "Missing Values:\n",
            "date        0\n",
            "variable    0\n",
            "sex         0\n",
            "sru         0\n",
            "dtype: int64\n"
          ]
        },
        {
          "output_type": "execute_result",
          "data": {
            "text/plain": [
              "'\\nThis part of the code ensures that there is no missing values\\nin the dataset. Last line drops rows/columsn with significant\\n#missing values if necessary.\\n'"
            ],
            "application/vnd.google.colaboratory.intrinsic+json": {
              "type": "string"
            }
          },
          "metadata": {},
          "execution_count": 28
        }
      ]
    },
    {
      "cell_type": "markdown",
      "source": [
        "## Setting Our Variables\n",
        "\n",
        "\n",
        "\n"
      ],
      "metadata": {
        "id": "07noJC9mttEl"
      }
    },
    {
      "cell_type": "markdown",
      "source": [
        "For our variables, we will be setting \"SRU\" as our dependent variable, and for our independent variable (features), it will be our quarter index (based on time). For our SRU, we will instead take the rate of the people instead of the number of people (by gender) in SRU.  "
      ],
      "metadata": {
        "id": "0qZGWcBmvTC0"
      }
    },
    {
      "cell_type": "code",
      "source": [
        "# Drop rows where 'sex' is 'Overall' first\n",
        "df1 = df1[df1['sex'] != 'overall']\n",
        "\n",
        "# Drop rows where 'variable' is 'Rate' (ensure correct capitalization)\n",
        "df1 = df1[df1['variable'] != 'rate']\n",
        "\n",
        "# Convert date into numerical quarter index\n",
        "df1['date'] = pd.to_datetime(df1['date']) # converts 'date' column to datetime format\n",
        "df1['quarter_num'] = df1['date'].dt.to_period(\"Q\").astype('category').cat.codes #Convert date into quarter period and assign unique numerical index\n",
        "\n",
        "\n",
        "\n",
        "# Define X and Y\n",
        "X = df1.drop(columns=['sex', 'variable'])\n",
        "X = df1['quarter_num']\n",
        "y = df1['sru']  #--> target varaible\n",
        "\n",
        "# Reshape X into a 2D array\n",
        "X = df1['quarter_num'].values.reshape(-1, 1)\n",
        "\n"
      ],
      "metadata": {
        "id": "PsmDXzvOmcxr"
      },
      "execution_count": 29,
      "outputs": []
    },
    {
      "cell_type": "code",
      "source": [
        "#CHECK IF DATASET IS FILTERED\n",
        "print('dataset for y --> sru')\n",
        "print(y)\n",
        "print(\"----------------------------------------------\")\n",
        "print(X)\n"
      ],
      "metadata": {
        "id": "fak1dqb5uEjt",
        "colab": {
          "base_uri": "https://localhost:8080/"
        },
        "outputId": "876cb4eb-0a99-484d-bce6-1310ad50ccc3"
      },
      "execution_count": 30,
      "outputs": [
        {
          "output_type": "stream",
          "name": "stdout",
          "text": [
            "dataset for y --> sru\n",
            "124    567.0\n",
            "125    584.9\n",
            "126    623.9\n",
            "127    648.4\n",
            "128    629.2\n",
            "       ...  \n",
            "181    981.4\n",
            "182    940.9\n",
            "183    955.7\n",
            "184    961.8\n",
            "185    956.1\n",
            "Name: sru, Length: 62, dtype: float64\n",
            "----------------------------------------------\n",
            "[[ 0]\n",
            " [ 1]\n",
            " [ 2]\n",
            " [ 3]\n",
            " [ 4]\n",
            " [ 5]\n",
            " [ 6]\n",
            " [ 7]\n",
            " [ 8]\n",
            " [ 9]\n",
            " [10]\n",
            " [11]\n",
            " [12]\n",
            " [13]\n",
            " [14]\n",
            " [15]\n",
            " [16]\n",
            " [17]\n",
            " [18]\n",
            " [19]\n",
            " [20]\n",
            " [21]\n",
            " [22]\n",
            " [23]\n",
            " [24]\n",
            " [25]\n",
            " [26]\n",
            " [27]\n",
            " [28]\n",
            " [29]\n",
            " [30]\n",
            " [ 0]\n",
            " [ 1]\n",
            " [ 2]\n",
            " [ 3]\n",
            " [ 4]\n",
            " [ 5]\n",
            " [ 6]\n",
            " [ 7]\n",
            " [ 8]\n",
            " [ 9]\n",
            " [10]\n",
            " [11]\n",
            " [12]\n",
            " [13]\n",
            " [14]\n",
            " [15]\n",
            " [16]\n",
            " [17]\n",
            " [18]\n",
            " [19]\n",
            " [20]\n",
            " [21]\n",
            " [22]\n",
            " [23]\n",
            " [24]\n",
            " [25]\n",
            " [26]\n",
            " [27]\n",
            " [28]\n",
            " [29]\n",
            " [30]]\n"
          ]
        }
      ]
    },
    {
      "cell_type": "markdown",
      "source": [
        "Instead of displaying the x-axis (date) in date format, it'll be hard for us, so what we decided was to display the date by quarters. You can refer to the table below.\n",
        "\n",
        "![image.png](data:image/png;base64,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)"
      ],
      "metadata": {
        "id": "WjoXYghix_qB"
      }
    },
    {
      "cell_type": "code",
      "source": [
        "model = LinearRegression()\n",
        "model.fit(X, y)"
      ],
      "metadata": {
        "id": "ZfxhzYpqyHQo",
        "colab": {
          "base_uri": "https://localhost:8080/",
          "height": 80
        },
        "outputId": "bdef9dd5-2933-4da4-eef1-26205d5043bd"
      },
      "execution_count": 31,
      "outputs": [
        {
          "output_type": "execute_result",
          "data": {
            "text/plain": [
              "LinearRegression()"
            ],
            "text/html": [
              "<style>#sk-container-id-3 {\n",
              "  /* Definition of color scheme common for light and dark mode */\n",
              "  --sklearn-color-text: #000;\n",
              "  --sklearn-color-text-muted: #666;\n",
              "  --sklearn-color-line: gray;\n",
              "  /* Definition of color scheme for unfitted estimators */\n",
              "  --sklearn-color-unfitted-level-0: #fff5e6;\n",
              "  --sklearn-color-unfitted-level-1: #f6e4d2;\n",
              "  --sklearn-color-unfitted-level-2: #ffe0b3;\n",
              "  --sklearn-color-unfitted-level-3: chocolate;\n",
              "  /* Definition of color scheme for fitted estimators */\n",
              "  --sklearn-color-fitted-level-0: #f0f8ff;\n",
              "  --sklearn-color-fitted-level-1: #d4ebff;\n",
              "  --sklearn-color-fitted-level-2: #b3dbfd;\n",
              "  --sklearn-color-fitted-level-3: cornflowerblue;\n",
              "\n",
              "  /* Specific color for light theme */\n",
              "  --sklearn-color-text-on-default-background: var(--sg-text-color, var(--theme-code-foreground, var(--jp-content-font-color1, black)));\n",
              "  --sklearn-color-background: var(--sg-background-color, var(--theme-background, var(--jp-layout-color0, white)));\n",
              "  --sklearn-color-border-box: var(--sg-text-color, var(--theme-code-foreground, var(--jp-content-font-color1, black)));\n",
              "  --sklearn-color-icon: #696969;\n",
              "\n",
              "  @media (prefers-color-scheme: dark) {\n",
              "    /* Redefinition of color scheme for dark theme */\n",
              "    --sklearn-color-text-on-default-background: var(--sg-text-color, var(--theme-code-foreground, var(--jp-content-font-color1, white)));\n",
              "    --sklearn-color-background: var(--sg-background-color, var(--theme-background, var(--jp-layout-color0, #111)));\n",
              "    --sklearn-color-border-box: var(--sg-text-color, var(--theme-code-foreground, var(--jp-content-font-color1, white)));\n",
              "    --sklearn-color-icon: #878787;\n",
              "  }\n",
              "}\n",
              "\n",
              "#sk-container-id-3 {\n",
              "  color: var(--sklearn-color-text);\n",
              "}\n",
              "\n",
              "#sk-container-id-3 pre {\n",
              "  padding: 0;\n",
              "}\n",
              "\n",
              "#sk-container-id-3 input.sk-hidden--visually {\n",
              "  border: 0;\n",
              "  clip: rect(1px 1px 1px 1px);\n",
              "  clip: rect(1px, 1px, 1px, 1px);\n",
              "  height: 1px;\n",
              "  margin: -1px;\n",
              "  overflow: hidden;\n",
              "  padding: 0;\n",
              "  position: absolute;\n",
              "  width: 1px;\n",
              "}\n",
              "\n",
              "#sk-container-id-3 div.sk-dashed-wrapped {\n",
              "  border: 1px dashed var(--sklearn-color-line);\n",
              "  margin: 0 0.4em 0.5em 0.4em;\n",
              "  box-sizing: border-box;\n",
              "  padding-bottom: 0.4em;\n",
              "  background-color: var(--sklearn-color-background);\n",
              "}\n",
              "\n",
              "#sk-container-id-3 div.sk-container {\n",
              "  /* jupyter's `normalize.less` sets `[hidden] { display: none; }`\n",
              "     but bootstrap.min.css set `[hidden] { display: none !important; }`\n",
              "     so we also need the `!important` here to be able to override the\n",
              "     default hidden behavior on the sphinx rendered scikit-learn.org.\n",
              "     See: https://github.com/scikit-learn/scikit-learn/issues/21755 */\n",
              "  display: inline-block !important;\n",
              "  position: relative;\n",
              "}\n",
              "\n",
              "#sk-container-id-3 div.sk-text-repr-fallback {\n",
              "  display: none;\n",
              "}\n",
              "\n",
              "div.sk-parallel-item,\n",
              "div.sk-serial,\n",
              "div.sk-item {\n",
              "  /* draw centered vertical line to link estimators */\n",
              "  background-image: linear-gradient(var(--sklearn-color-text-on-default-background), var(--sklearn-color-text-on-default-background));\n",
              "  background-size: 2px 100%;\n",
              "  background-repeat: no-repeat;\n",
              "  background-position: center center;\n",
              "}\n",
              "\n",
              "/* Parallel-specific style estimator block */\n",
              "\n",
              "#sk-container-id-3 div.sk-parallel-item::after {\n",
              "  content: \"\";\n",
              "  width: 100%;\n",
              "  border-bottom: 2px solid var(--sklearn-color-text-on-default-background);\n",
              "  flex-grow: 1;\n",
              "}\n",
              "\n",
              "#sk-container-id-3 div.sk-parallel {\n",
              "  display: flex;\n",
              "  align-items: stretch;\n",
              "  justify-content: center;\n",
              "  background-color: var(--sklearn-color-background);\n",
              "  position: relative;\n",
              "}\n",
              "\n",
              "#sk-container-id-3 div.sk-parallel-item {\n",
              "  display: flex;\n",
              "  flex-direction: column;\n",
              "}\n",
              "\n",
              "#sk-container-id-3 div.sk-parallel-item:first-child::after {\n",
              "  align-self: flex-end;\n",
              "  width: 50%;\n",
              "}\n",
              "\n",
              "#sk-container-id-3 div.sk-parallel-item:last-child::after {\n",
              "  align-self: flex-start;\n",
              "  width: 50%;\n",
              "}\n",
              "\n",
              "#sk-container-id-3 div.sk-parallel-item:only-child::after {\n",
              "  width: 0;\n",
              "}\n",
              "\n",
              "/* Serial-specific style estimator block */\n",
              "\n",
              "#sk-container-id-3 div.sk-serial {\n",
              "  display: flex;\n",
              "  flex-direction: column;\n",
              "  align-items: center;\n",
              "  background-color: var(--sklearn-color-background);\n",
              "  padding-right: 1em;\n",
              "  padding-left: 1em;\n",
              "}\n",
              "\n",
              "\n",
              "/* Toggleable style: style used for estimator/Pipeline/ColumnTransformer box that is\n",
              "clickable and can be expanded/collapsed.\n",
              "- Pipeline and ColumnTransformer use this feature and define the default style\n",
              "- Estimators will overwrite some part of the style using the `sk-estimator` class\n",
              "*/\n",
              "\n",
              "/* Pipeline and ColumnTransformer style (default) */\n",
              "\n",
              "#sk-container-id-3 div.sk-toggleable {\n",
              "  /* Default theme specific background. It is overwritten whether we have a\n",
              "  specific estimator or a Pipeline/ColumnTransformer */\n",
              "  background-color: var(--sklearn-color-background);\n",
              "}\n",
              "\n",
              "/* Toggleable label */\n",
              "#sk-container-id-3 label.sk-toggleable__label {\n",
              "  cursor: pointer;\n",
              "  display: flex;\n",
              "  width: 100%;\n",
              "  margin-bottom: 0;\n",
              "  padding: 0.5em;\n",
              "  box-sizing: border-box;\n",
              "  text-align: center;\n",
              "  align-items: start;\n",
              "  justify-content: space-between;\n",
              "  gap: 0.5em;\n",
              "}\n",
              "\n",
              "#sk-container-id-3 label.sk-toggleable__label .caption {\n",
              "  font-size: 0.6rem;\n",
              "  font-weight: lighter;\n",
              "  color: var(--sklearn-color-text-muted);\n",
              "}\n",
              "\n",
              "#sk-container-id-3 label.sk-toggleable__label-arrow:before {\n",
              "  /* Arrow on the left of the label */\n",
              "  content: \"▸\";\n",
              "  float: left;\n",
              "  margin-right: 0.25em;\n",
              "  color: var(--sklearn-color-icon);\n",
              "}\n",
              "\n",
              "#sk-container-id-3 label.sk-toggleable__label-arrow:hover:before {\n",
              "  color: var(--sklearn-color-text);\n",
              "}\n",
              "\n",
              "/* Toggleable content - dropdown */\n",
              "\n",
              "#sk-container-id-3 div.sk-toggleable__content {\n",
              "  max-height: 0;\n",
              "  max-width: 0;\n",
              "  overflow: hidden;\n",
              "  text-align: left;\n",
              "  /* unfitted */\n",
              "  background-color: var(--sklearn-color-unfitted-level-0);\n",
              "}\n",
              "\n",
              "#sk-container-id-3 div.sk-toggleable__content.fitted {\n",
              "  /* fitted */\n",
              "  background-color: var(--sklearn-color-fitted-level-0);\n",
              "}\n",
              "\n",
              "#sk-container-id-3 div.sk-toggleable__content pre {\n",
              "  margin: 0.2em;\n",
              "  border-radius: 0.25em;\n",
              "  color: var(--sklearn-color-text);\n",
              "  /* unfitted */\n",
              "  background-color: var(--sklearn-color-unfitted-level-0);\n",
              "}\n",
              "\n",
              "#sk-container-id-3 div.sk-toggleable__content.fitted pre {\n",
              "  /* unfitted */\n",
              "  background-color: var(--sklearn-color-fitted-level-0);\n",
              "}\n",
              "\n",
              "#sk-container-id-3 input.sk-toggleable__control:checked~div.sk-toggleable__content {\n",
              "  /* Expand drop-down */\n",
              "  max-height: 200px;\n",
              "  max-width: 100%;\n",
              "  overflow: auto;\n",
              "}\n",
              "\n",
              "#sk-container-id-3 input.sk-toggleable__control:checked~label.sk-toggleable__label-arrow:before {\n",
              "  content: \"▾\";\n",
              "}\n",
              "\n",
              "/* Pipeline/ColumnTransformer-specific style */\n",
              "\n",
              "#sk-container-id-3 div.sk-label input.sk-toggleable__control:checked~label.sk-toggleable__label {\n",
              "  color: var(--sklearn-color-text);\n",
              "  background-color: var(--sklearn-color-unfitted-level-2);\n",
              "}\n",
              "\n",
              "#sk-container-id-3 div.sk-label.fitted input.sk-toggleable__control:checked~label.sk-toggleable__label {\n",
              "  background-color: var(--sklearn-color-fitted-level-2);\n",
              "}\n",
              "\n",
              "/* Estimator-specific style */\n",
              "\n",
              "/* Colorize estimator box */\n",
              "#sk-container-id-3 div.sk-estimator input.sk-toggleable__control:checked~label.sk-toggleable__label {\n",
              "  /* unfitted */\n",
              "  background-color: var(--sklearn-color-unfitted-level-2);\n",
              "}\n",
              "\n",
              "#sk-container-id-3 div.sk-estimator.fitted input.sk-toggleable__control:checked~label.sk-toggleable__label {\n",
              "  /* fitted */\n",
              "  background-color: var(--sklearn-color-fitted-level-2);\n",
              "}\n",
              "\n",
              "#sk-container-id-3 div.sk-label label.sk-toggleable__label,\n",
              "#sk-container-id-3 div.sk-label label {\n",
              "  /* The background is the default theme color */\n",
              "  color: var(--sklearn-color-text-on-default-background);\n",
              "}\n",
              "\n",
              "/* On hover, darken the color of the background */\n",
              "#sk-container-id-3 div.sk-label:hover label.sk-toggleable__label {\n",
              "  color: var(--sklearn-color-text);\n",
              "  background-color: var(--sklearn-color-unfitted-level-2);\n",
              "}\n",
              "\n",
              "/* Label box, darken color on hover, fitted */\n",
              "#sk-container-id-3 div.sk-label.fitted:hover label.sk-toggleable__label.fitted {\n",
              "  color: var(--sklearn-color-text);\n",
              "  background-color: var(--sklearn-color-fitted-level-2);\n",
              "}\n",
              "\n",
              "/* Estimator label */\n",
              "\n",
              "#sk-container-id-3 div.sk-label label {\n",
              "  font-family: monospace;\n",
              "  font-weight: bold;\n",
              "  display: inline-block;\n",
              "  line-height: 1.2em;\n",
              "}\n",
              "\n",
              "#sk-container-id-3 div.sk-label-container {\n",
              "  text-align: center;\n",
              "}\n",
              "\n",
              "/* Estimator-specific */\n",
              "#sk-container-id-3 div.sk-estimator {\n",
              "  font-family: monospace;\n",
              "  border: 1px dotted var(--sklearn-color-border-box);\n",
              "  border-radius: 0.25em;\n",
              "  box-sizing: border-box;\n",
              "  margin-bottom: 0.5em;\n",
              "  /* unfitted */\n",
              "  background-color: var(--sklearn-color-unfitted-level-0);\n",
              "}\n",
              "\n",
              "#sk-container-id-3 div.sk-estimator.fitted {\n",
              "  /* fitted */\n",
              "  background-color: var(--sklearn-color-fitted-level-0);\n",
              "}\n",
              "\n",
              "/* on hover */\n",
              "#sk-container-id-3 div.sk-estimator:hover {\n",
              "  /* unfitted */\n",
              "  background-color: var(--sklearn-color-unfitted-level-2);\n",
              "}\n",
              "\n",
              "#sk-container-id-3 div.sk-estimator.fitted:hover {\n",
              "  /* fitted */\n",
              "  background-color: var(--sklearn-color-fitted-level-2);\n",
              "}\n",
              "\n",
              "/* Specification for estimator info (e.g. \"i\" and \"?\") */\n",
              "\n",
              "/* Common style for \"i\" and \"?\" */\n",
              "\n",
              ".sk-estimator-doc-link,\n",
              "a:link.sk-estimator-doc-link,\n",
              "a:visited.sk-estimator-doc-link {\n",
              "  float: right;\n",
              "  font-size: smaller;\n",
              "  line-height: 1em;\n",
              "  font-family: monospace;\n",
              "  background-color: var(--sklearn-color-background);\n",
              "  border-radius: 1em;\n",
              "  height: 1em;\n",
              "  width: 1em;\n",
              "  text-decoration: none !important;\n",
              "  margin-left: 0.5em;\n",
              "  text-align: center;\n",
              "  /* unfitted */\n",
              "  border: var(--sklearn-color-unfitted-level-1) 1pt solid;\n",
              "  color: var(--sklearn-color-unfitted-level-1);\n",
              "}\n",
              "\n",
              ".sk-estimator-doc-link.fitted,\n",
              "a:link.sk-estimator-doc-link.fitted,\n",
              "a:visited.sk-estimator-doc-link.fitted {\n",
              "  /* fitted */\n",
              "  border: var(--sklearn-color-fitted-level-1) 1pt solid;\n",
              "  color: var(--sklearn-color-fitted-level-1);\n",
              "}\n",
              "\n",
              "/* On hover */\n",
              "div.sk-estimator:hover .sk-estimator-doc-link:hover,\n",
              ".sk-estimator-doc-link:hover,\n",
              "div.sk-label-container:hover .sk-estimator-doc-link:hover,\n",
              ".sk-estimator-doc-link:hover {\n",
              "  /* unfitted */\n",
              "  background-color: var(--sklearn-color-unfitted-level-3);\n",
              "  color: var(--sklearn-color-background);\n",
              "  text-decoration: none;\n",
              "}\n",
              "\n",
              "div.sk-estimator.fitted:hover .sk-estimator-doc-link.fitted:hover,\n",
              ".sk-estimator-doc-link.fitted:hover,\n",
              "div.sk-label-container:hover .sk-estimator-doc-link.fitted:hover,\n",
              ".sk-estimator-doc-link.fitted:hover {\n",
              "  /* fitted */\n",
              "  background-color: var(--sklearn-color-fitted-level-3);\n",
              "  color: var(--sklearn-color-background);\n",
              "  text-decoration: none;\n",
              "}\n",
              "\n",
              "/* Span, style for the box shown on hovering the info icon */\n",
              ".sk-estimator-doc-link span {\n",
              "  display: none;\n",
              "  z-index: 9999;\n",
              "  position: relative;\n",
              "  font-weight: normal;\n",
              "  right: .2ex;\n",
              "  padding: .5ex;\n",
              "  margin: .5ex;\n",
              "  width: min-content;\n",
              "  min-width: 20ex;\n",
              "  max-width: 50ex;\n",
              "  color: var(--sklearn-color-text);\n",
              "  box-shadow: 2pt 2pt 4pt #999;\n",
              "  /* unfitted */\n",
              "  background: var(--sklearn-color-unfitted-level-0);\n",
              "  border: .5pt solid var(--sklearn-color-unfitted-level-3);\n",
              "}\n",
              "\n",
              ".sk-estimator-doc-link.fitted span {\n",
              "  /* fitted */\n",
              "  background: var(--sklearn-color-fitted-level-0);\n",
              "  border: var(--sklearn-color-fitted-level-3);\n",
              "}\n",
              "\n",
              ".sk-estimator-doc-link:hover span {\n",
              "  display: block;\n",
              "}\n",
              "\n",
              "/* \"?\"-specific style due to the `<a>` HTML tag */\n",
              "\n",
              "#sk-container-id-3 a.estimator_doc_link {\n",
              "  float: right;\n",
              "  font-size: 1rem;\n",
              "  line-height: 1em;\n",
              "  font-family: monospace;\n",
              "  background-color: var(--sklearn-color-background);\n",
              "  border-radius: 1rem;\n",
              "  height: 1rem;\n",
              "  width: 1rem;\n",
              "  text-decoration: none;\n",
              "  /* unfitted */\n",
              "  color: var(--sklearn-color-unfitted-level-1);\n",
              "  border: var(--sklearn-color-unfitted-level-1) 1pt solid;\n",
              "}\n",
              "\n",
              "#sk-container-id-3 a.estimator_doc_link.fitted {\n",
              "  /* fitted */\n",
              "  border: var(--sklearn-color-fitted-level-1) 1pt solid;\n",
              "  color: var(--sklearn-color-fitted-level-1);\n",
              "}\n",
              "\n",
              "/* On hover */\n",
              "#sk-container-id-3 a.estimator_doc_link:hover {\n",
              "  /* unfitted */\n",
              "  background-color: var(--sklearn-color-unfitted-level-3);\n",
              "  color: var(--sklearn-color-background);\n",
              "  text-decoration: none;\n",
              "}\n",
              "\n",
              "#sk-container-id-3 a.estimator_doc_link.fitted:hover {\n",
              "  /* fitted */\n",
              "  background-color: var(--sklearn-color-fitted-level-3);\n",
              "}\n",
              "</style><div id=\"sk-container-id-3\" class=\"sk-top-container\"><div class=\"sk-text-repr-fallback\"><pre>LinearRegression()</pre><b>In a Jupyter environment, please rerun this cell to show the HTML representation or trust the notebook. <br />On GitHub, the HTML representation is unable to render, please try loading this page with nbviewer.org.</b></div><div class=\"sk-container\" hidden><div class=\"sk-item\"><div class=\"sk-estimator fitted sk-toggleable\"><input class=\"sk-toggleable__control sk-hidden--visually\" id=\"sk-estimator-id-3\" type=\"checkbox\" checked><label for=\"sk-estimator-id-3\" class=\"sk-toggleable__label fitted sk-toggleable__label-arrow\"><div><div>LinearRegression</div></div><div><a class=\"sk-estimator-doc-link fitted\" rel=\"noreferrer\" target=\"_blank\" href=\"https://scikit-learn.org/1.6/modules/generated/sklearn.linear_model.LinearRegression.html\">?<span>Documentation for LinearRegression</span></a><span class=\"sk-estimator-doc-link fitted\">i<span>Fitted</span></span></div></label><div class=\"sk-toggleable__content fitted\"><pre>LinearRegression()</pre></div> </div></div></div></div>"
            ]
          },
          "metadata": {},
          "execution_count": 31
        }
      ]
    },
    {
      "cell_type": "markdown",
      "source": [
        "# 2. Linear Regression Model\n",
        "\n"
      ],
      "metadata": {
        "id": "E69mPB8P4Pup"
      }
    },
    {
      "cell_type": "markdown",
      "source": [
        "We believe that the best approach to see the significant trends would be by first using a Linear Regression model, where it will predict a continuous variable (like SRU), and see if there is a linear relationship between independent and dependent variables."
      ],
      "metadata": {
        "id": "29wI3VzKPReW"
      }
    },
    {
      "cell_type": "markdown",
      "source": [
        "### Labelling Coefficient of Determination, Intercept, Slope, and Predicted Response"
      ],
      "metadata": {
        "id": "qaAQW94vz2aB"
      }
    },
    {
      "cell_type": "code",
      "source": [
        "#Filter data by gender first\n",
        "df1_female = df1[df1['sex'] == 'female']\n",
        "df1_male = df1[df1['sex'] == 'male']\n",
        "\n",
        "#FEMALE\n",
        "# Prepare X and y for female dataset\n",
        "X_female = df1_female['quarter_num'].values.reshape(-1, 1)\n",
        "y_female = df1_female['sru'].values\n",
        "\n",
        "# Prepare X and y for male dataset\n",
        "X_male = df1_male['quarter_num'].values.reshape(-1, 1)\n",
        "y_male = df1_male['sru'].values\n",
        "\n",
        "\n",
        "# Generate LR models for both genders\n",
        "model_female = LinearRegression()\n",
        "model_male = LinearRegression()\n",
        "# Fit models\n",
        "model_female.fit(X_female, y_female)\n",
        "model_male.fit(X_male, y_male)\n",
        "\n",
        "# Get R^2 scores (or known as coeff of determinatino)\n",
        "r_sq_female = model_female.score(X_female, y_female)\n",
        "r_sq_male = model_male.score(X_male, y_male)\n"
      ],
      "metadata": {
        "id": "FV14386P3Qzo"
      },
      "execution_count": 32,
      "outputs": []
    },
    {
      "cell_type": "code",
      "source": [
        "#Print female graph details\n",
        "print(\"FEMALE GRAPH INFORMATION\")\n",
        "print(f\"coefficient of determination: {r_sq_female}\")\n",
        "print(f\"intercept: {model_female.intercept_}\")\n",
        "print(f\"slope: {model_female.coef_}\")\n",
        "\n",
        "print(\"\\n\\nMALE GRAPH INFORMATION\")\n",
        "#Print male graph details\n",
        "print(f\"coefficient of determination: {r_sq_male}\")\n",
        "print(f\"intercept: {model_male.intercept_}\")\n",
        "print(f\"slope: {model_male.coef_}\")"
      ],
      "metadata": {
        "id": "BM0fj0qG5cVB",
        "colab": {
          "base_uri": "https://localhost:8080/"
        },
        "outputId": "b970dfe0-b310-4c2a-c5e1-fcbc0ac7041f"
      },
      "execution_count": 33,
      "outputs": [
        {
          "output_type": "stream",
          "name": "stdout",
          "text": [
            "FEMALE GRAPH INFORMATION\n",
            "coefficient of determination: 0.8469271983778232\n",
            "intercept: 679.2802419354839\n",
            "slope: [11.50024194]\n",
            "\n",
            "\n",
            "MALE GRAPH INFORMATION\n",
            "coefficient of determination: 0.7889949381890112\n",
            "intercept: 605.2562499999998\n",
            "slope: [14.50076613]\n"
          ]
        }
      ]
    },
    {
      "cell_type": "markdown",
      "source": [
        "### Plot Results, Display Graph, and Analysis"
      ],
      "metadata": {
        "id": "jJX9dwb16Drp"
      }
    },
    {
      "cell_type": "code",
      "source": [
        "# Predict y values for both genders\n",
        "y_pred_female = model_female.predict(X_female)\n",
        "y_pred_male = model_male.predict(X_male)\n",
        "\n",
        "# Plot results\n",
        "plt.figure(figsize=(10, 6))\n",
        "\n",
        "plt.scatter(X_female, y_female, color=\"blue\", label=\"Female\")\n",
        "plt.plot(X_female, y_pred_female, color=\"blue\", linestyle=\"dashed\", label=f\"Female Regression ($R^2$ = {r_sq_female:.3f})\")\n",
        "\n",
        "plt.scatter(X_male, y_male, color=\"red\", label=\"Male\")\n",
        "plt.plot(X_male, y_pred_male, color=\"red\", linestyle=\"dashed\", label=f\"Male Regression ($R^2$ = {r_sq_male:.3f})\")\n",
        "\n",
        "plt.xlabel('Quarter Index')\n",
        "plt.ylabel('Skills-Related Underemployment (SRU)')\n",
        "plt.title('Linear Regression for Male and Female SRU Over Time')\n",
        "plt.legend()\n",
        "plt.show()\n"
      ],
      "metadata": {
        "id": "3DbaLXVi5_EK",
        "colab": {
          "base_uri": "https://localhost:8080/",
          "height": 564
        },
        "outputId": "dfff028d-8e2a-43d8-acfe-5acf37c1cefa"
      },
      "execution_count": 34,
      "outputs": [
        {
          "output_type": "display_data",
          "data": {
            "text/plain": [
              "<Figure size 1000x600 with 1 Axes>"
            ],
            "image/png": "[encoded data removed]"
          },
          "metadata": {}
        }
      ]
    },
    {
      "cell_type": "markdown",
      "source": [
        "## Analysis of Skills-Related Underemployment (SRU) Trends by Gender\n",
        "\n",
        "This analysis examines trends in skills-related underemployment (SRU) for males and females using binary logistic regression with time (quarter index) as the predictor.\n",
        "\n",
        "---\n",
        "\n",
        "### 1. Comparison of Slopes (Coefficients)\n",
        "\n",
        "* **Observation:** The slope (coefficient) of the regression line for males is considerably steeper than that for females.\n",
        "\n",
        "* **Interpretation:** This indicates a faster increase in SRU over time for males compared to females.  In simpler terms, men are experiencing a more rapid growth in skills-related underemployment during the observed period.\n",
        "\n",
        "---\n",
        "\n",
        "### 2. Differences in R-squared (Coefficient of Determination)\n",
        "\n",
        "* **Female R-squared:** 0.847.  This signifies that 84.7% of the variance in female SRU can be explained by the quarter index (time).\n",
        "\n",
        "* **Male R-squared:** 0.789. This signifies that 78.9% of the variance in male SRU can be explained by the quarter index (time).\n",
        "\n",
        "* **Interpretation:**\n",
        "\n",
        "    * Time is a slightly stronger predictor of SRU trends for females than for males.\n",
        "    * The lower R-squared for males suggests that other factors beyond time may be influencing male SRU.  These could include industry shifts, changes in required skillsets, education levels, economic conditions, and other factors.\n",
        "\n",
        "---\n",
        "\n",
        "### 3. Intercept Comparison\n",
        "\n",
        "* **Description:** The intercept of the regression line represents the predicted SRU value when the quarter index is zero (the starting point of the observed time period).  Comparing the intercepts for males and females provides insight into the initial differences in SRU levels between the genders at the beginning of the data collection period.\n",
        "\n",
        "* **Interpretation:**  A higher intercept for one gender indicates a higher starting level of SRU at the beginning of the observation period. The difference between the intercepts represents the initial gap in SRU between males and females.\n"
      ],
      "metadata": {
        "id": "bFD-6m_JXQnA"
      }
    },
    {
      "cell_type": "markdown",
      "source": [
        "#3. PCA"
      ],
      "metadata": {
        "id": "YCZoYdnUH3D8"
      }
    },
    {
      "cell_type": "markdown",
      "source": [
        "To dive deeper, and reveal more hidden trends (if any), we can use PCA, or Principal Component Analysis."
      ],
      "metadata": {
        "id": "I-1FmH3RenHi"
      }
    },
    {
      "cell_type": "code",
      "source": [
        "df_male = df1[df1['sex'] == 'male'].drop(columns=['sex', 'variable', 'date'])\n",
        "df_female = df1[df1['sex'] == 'female'].drop(columns=['sex', 'variable', 'date'])\n",
        "\n",
        "scaler = StandardScaler()\n",
        "X_male_scaled = scaler.fit_transform(df_male)\n",
        "X_female_scaled = scaler.fit_transform(df_female)\n",
        "\n",
        "pca_male = PCA(n_components=2)\n",
        "pca_female = PCA(n_components=2)\n",
        "\n",
        "X_male_pca = pca_male.fit_transform(X_male_scaled)\n",
        "X_female_pca = pca_female.fit_transform(X_female_scaled)\n",
        "\n",
        "print(\"Explained Variance Ratio (Males):\", pca_male.explained_variance_ratio_)\n",
        "print(\"Explained Variance Ratio (Females):\", pca_female.explained_variance_ratio_)\n",
        "\n"
      ],
      "metadata": {
        "id": "FSfAb48dIO6l",
        "colab": {
          "base_uri": "https://localhost:8080/"
        },
        "outputId": "e6675456-9130-41f5-e24c-0913f7d67e35"
      },
      "execution_count": 35,
      "outputs": [
        {
          "output_type": "stream",
          "name": "stdout",
          "text": [
            "Explained Variance Ratio (Males): [0.94412694 0.05587306]\n",
            "Explained Variance Ratio (Females): [0.96014324 0.03985676]\n"
          ]
        }
      ]
    },
    {
      "cell_type": "code",
      "source": [
        "plt.figure(figsize=(12,5))\n",
        "\n",
        "# Male PCA Scatter Plot\n",
        "plt.subplot(1, 2, 1)\n",
        "plt.scatter(X_male_pca[:, 0], X_male_pca[:, 1], color='blue', alpha=0.6)\n",
        "plt.xlabel('PC1')\n",
        "plt.ylabel('PC2')\n",
        "plt.title('PCA Projection for Males')\n",
        "\n",
        "# Female PCA Scatter Plot\n",
        "plt.subplot(1, 2, 2)\n",
        "plt.scatter(X_female_pca[:, 0], X_female_pca[:, 1], color='red', alpha=0.6)\n",
        "plt.xlabel('PC1')\n",
        "plt.ylabel('PC2')\n",
        "plt.title('PCA Projection for Females')\n",
        "\n",
        "plt.tight_layout()\n",
        "plt.show()\n"
      ],
      "metadata": {
        "id": "C1YSVxskZDzk",
        "colab": {
          "base_uri": "https://localhost:8080/",
          "height": 386
        },
        "outputId": "c0c77be6-6e6e-43b8-fbd5-84f24012ec9e"
      },
      "execution_count": 36,
      "outputs": [
        {
          "output_type": "display_data",
          "data": {
            "text/plain": [
              "<Figure size 1200x500 with 2 Axes>"
            ],
            "image/png": "[encoded data removed]"
          },
          "metadata": {}
        }
      ]
    },
    {
      "cell_type": "markdown",
      "source": [
        "## Are there more trends hidden in the dataset?\n",
        "### 1. Variance Explanation\n",
        "\n",
        "* **Observation:** The spread along the x-axis (PC1) captures the most significant trends in the dataset. With PC2 capturing a smaller portion of the trends in the dataset.  \n",
        "\n",
        "* **Interpretation:** The variance ratios indicate that most of the variance (over 94% for males and 96% for females) is captured by the first principal component, with second principal component (PC2) capturing a smaller portion of the variance. <br>\n",
        "Since PC2 contributes only around 4-6%, so variations along the y-axis (PC2) are relatively minor and may represent noise or secondary patterns.\n",
        "\n",
        "---\n",
        "\n",
        "### 2. Comparisons between Males and Females\n",
        "Males' data appears more structured, showing a looser pattern with a slightly upward curve in PC2.\n",
        "<br>\n",
        "Females' data is more evenly scattered without a noticeable trend, suggesting that the variance for females is more uniformly distirubted.\n",
        "<br>\n",
        "---\n",
        "\n",
        "### 3. Possible Interpretation\n",
        "If you were to compare PC1 and PC2's distribution, it suggest that skills-related underemployment in males follows a more predictable pattern, whereas for females, it varies more unpredictably. <br>\n",
        "The spread along PC1 is similar for both genders, which could imply that dominant factors affecting underemployment are common to both groups.\n"
      ],
      "metadata": {
        "id": "rv0QipxYeyXd"
      }
    },
    {
      "cell_type": "markdown",
      "source": [
        "# Conclusion and Future Work"
      ],
      "metadata": {
        "id": "kg-EtRo-MLcg"
      }
    },
    {
      "cell_type": "markdown",
      "source": [
        "## Conclusion\n",
        "\n",
        "This study analyzed skills-related underemployment (SRU) trends by gender, using linear regression and principal component analysis (PCA). Through our findings, our research shows the growth differences of SRU rates together with data variance patterns alongside structural elements that affect men and women.\n",
        "\n",
        "*   SRU Trends Over Time: Regression analysis revealed a steeper increase in SRU for males, which shows that men experiences a more rapid rise in underemployment compared to females. However, time is a slightly stronger predictor of SRU trends for female, as shown by their higher R-squared value.\n",
        "\n",
        "*   PCA Observations: PC1 already captures around 94% of the variance for males, and 96% for females, which suggests that the primary trends in SRU are well represented. However, the males' graph shows a more scattered trends, while the female exhibit a more stable and linear pattern.\n",
        "\n",
        "*   Gender-Specific Variations: The spread in males suggests predictable but unstable fluctuations in SRU as compared to females, where they demonstrate a more uniform variance, which implies a steady trend through the time period.\n",
        "\n",
        "To conclude, the research data shows SRU varies between genders in its growth patterns as well as stability levels which suggests other potential factors affect male and female underemployment individually. The analysis establishes the reality of this issue to be valid.\n",
        "\n",
        "\n",
        "---\n",
        "\n",
        "## Future Work\n",
        "To delve deeper into the trends and their underlying causes, future research can include:\n",
        "1. Expanding Features Analysis: Incorporate other external factors like education levels, job sector distribution, economy shifts, and policy changes to explain the differences in SRU trends.\n",
        "2. Applying more Models for Deeper Analysis: We could apply other machine learning models such as K-means to uncover more hidden data and its employment patterns.\n",
        "\n",
        "Future evaluations adopting these approaches will develop stronger insights regarding skills-related underemployment as well as its distribution among different demographic groups.\n",
        "\n"
      ],
      "metadata": {
        "id": "AxC0rBgAdhXb"
      }
    },
    {
      "cell_type": "markdown",
      "source": [
        "## Reflection\n",
        "The applied use of linear regression along with principal component analysis (PCA) to real data provided meaningful insights during the laboratory experience. The applied linear regression analysis showed a direct connection between time and skills-related underemployment which affected both male and female participants equally. Underemployment rates for males rose at a higher rate than females showing both trends to be more volatile but females maintaining consistent underemployment levels.\n",
        "\n",
        "In addition to linear regression, PCA was instrumental in reducing the dimensionality of the dataset and revealing hidden patterns. PC1 captured most of the variance, with males showing scattered and less stable patterns, while females displayed a linear and more stable distribution. This highlighted the different trends and variances in underemployment between genders.\n",
        "\n",
        "Moving forward, the analysis would be more enhanced if we were to include clustering algorithms such as K-means algorithm, and include external factors like education levels, to discover advanced patterns for better comprehension of skills-related underemployment developments.\n",
        "\n",
        "This lab experience has significantly improved my analytical skills, and reinforcing the value of statistical techniques in addressing complex societal issues."
      ],
      "metadata": {
        "id": "CFRY3J1ZQ33n"
      }
    }
  ]
}